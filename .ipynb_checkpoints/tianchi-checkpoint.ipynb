{
 "cells": [
  {
   "cell_type": "code",
   "execution_count": 103,
   "metadata": {
    "collapsed": true
   },
   "outputs": [],
   "source": [
    "import pandas as pd\n",
    "import numpy as np\n",
    "import matplotlib.pyplot as plt\n",
    "import seaborn as sns"
   ]
  },
  {
   "cell_type": "markdown",
   "metadata": {},
   "source": [
    "IMPORT DATA"
   ]
  },
  {
   "cell_type": "code",
   "execution_count": 110,
   "metadata": {
    "collapsed": false
   },
   "outputs": [
    {
     "name": "stderr",
     "output_type": "stream",
     "text": [
      "/home/jiaxing/anaconda3/envs/tensorflow3/lib/python3.5/site-packages/ipykernel_launcher.py:5: ParserWarning: Falling back to the 'python' engine because the 'c' engine does not support regex separators (separators > 1 char and different from '\\s+' are interpreted as regex); you can avoid this warning by specifying engine='python'.\n",
      "  \"\"\"\n"
     ]
    }
   ],
   "source": [
    "app_interference = pd.read_csv('./data/scheduling_preliminary_app_interference_20180606.csv',names=['app_id1','app_id2',\n",
    "                                                                                                    \n",
    "                                                                                                    'max_limit'])\n",
    "app_resources_header = ['appid']+['cpu'+str(i) for i in range(98)] + ['mem'+str(i) for i in range(98)] + ['disk','P','M','PM']\n",
    "app_resources = pd.read_csv('./data/scheduling_preliminary_app_resources_20180606.csv',sep=',|\\|',names=app_resources_header)\n",
    "instance_deploy = pd.read_csv('./data/scheduling_preliminary_instance_deploy_20180606.csv',names=['instance_id',\n",
    "                                                                                                 'instance_from_appid',\n",
    "                                                                                                 'instance_in_host'])\n",
    "machine_resources = pd.read_csv('./data/scheduling_preliminary_machine_resources_20180606.csv',names=['hostid',\n",
    "                                                                                                     'cpu',\n",
    "                                                                                                     'mem',\n",
    "                                                                                                     'disk',\n",
    "                                                                                                     'P_max',\n",
    "                                                                                                     'M_max',\n",
    "                                                                                                     'PM_max'])\n",
    "submit_sample = pd.read_csv('./data/scheduling_preliminary_submit_sample_20180606.csv')\n"
   ]
  },
  {
   "cell_type": "markdown",
   "metadata": {},
   "source": [
    "Data Dimensions"
   ]
  },
  {
   "cell_type": "code",
   "execution_count": 98,
   "metadata": {
    "collapsed": false,
    "scrolled": true
   },
   "outputs": [
    {
     "name": "stdout",
     "output_type": "stream",
     "text": [
      "app_interference        : (35242, 3)\n",
      "app_resources           : (9338, 201)\n",
      "instance_deploy         : (68219, 3)\n",
      "machine_resources       : (6000, 7)\n",
      "submit_sample           : (9, 2)\n"
     ]
    }
   ],
   "source": [
    "print('app_interference        :',app_interference.shape)\n",
    "print('app_resources           :',app_resources.shape)\n",
    "print('instance_deploy         :',instance_deploy.shape)\n",
    "print('machine_resources       :',machine_resources.shape)\n",
    "print('submit_sample           :',submit_sample.shape)\n",
    "\n",
    "\n",
    "\n",
    "\n",
    "\n"
   ]
  },
  {
   "cell_type": "markdown",
   "metadata": {},
   "source": [
    "First row of data"
   ]
  },
  {
   "cell_type": "code",
   "execution_count": 111,
   "metadata": {
    "collapsed": false
   },
   "outputs": [
    {
     "data": {
      "text/plain": [
       "'app_interference'"
      ]
     },
     "metadata": {},
     "output_type": "display_data"
    },
    {
     "data": {
      "text/html": [
       "<div>\n",
       "<style>\n",
       "    .dataframe thead tr:only-child th {\n",
       "        text-align: right;\n",
       "    }\n",
       "\n",
       "    .dataframe thead th {\n",
       "        text-align: left;\n",
       "    }\n",
       "\n",
       "    .dataframe tbody tr th {\n",
       "        vertical-align: top;\n",
       "    }\n",
       "</style>\n",
       "<table border=\"1\" class=\"dataframe\">\n",
       "  <thead>\n",
       "    <tr style=\"text-align: right;\">\n",
       "      <th></th>\n",
       "      <th>app_id1</th>\n",
       "      <th>app_id2</th>\n",
       "      <th>max_limit</th>\n",
       "    </tr>\n",
       "  </thead>\n",
       "  <tbody>\n",
       "    <tr>\n",
       "      <th>0</th>\n",
       "      <td>app_8361</td>\n",
       "      <td>app_2163</td>\n",
       "      <td>0</td>\n",
       "    </tr>\n",
       "    <tr>\n",
       "      <th>1</th>\n",
       "      <td>app_6585</td>\n",
       "      <td>app_8959</td>\n",
       "      <td>0</td>\n",
       "    </tr>\n",
       "    <tr>\n",
       "      <th>2</th>\n",
       "      <td>app_5732</td>\n",
       "      <td>app_3361</td>\n",
       "      <td>2</td>\n",
       "    </tr>\n",
       "  </tbody>\n",
       "</table>\n",
       "</div>"
      ],
      "text/plain": [
       "    app_id1   app_id2  max_limit\n",
       "0  app_8361  app_2163          0\n",
       "1  app_6585  app_8959          0\n",
       "2  app_5732  app_3361          2"
      ]
     },
     "metadata": {},
     "output_type": "display_data"
    },
    {
     "data": {
      "text/plain": [
       "'app_resources'"
      ]
     },
     "metadata": {},
     "output_type": "display_data"
    },
    {
     "data": {
      "text/html": [
       "<div>\n",
       "<style>\n",
       "    .dataframe thead tr:only-child th {\n",
       "        text-align: right;\n",
       "    }\n",
       "\n",
       "    .dataframe thead th {\n",
       "        text-align: left;\n",
       "    }\n",
       "\n",
       "    .dataframe tbody tr th {\n",
       "        vertical-align: top;\n",
       "    }\n",
       "</style>\n",
       "<table border=\"1\" class=\"dataframe\">\n",
       "  <thead>\n",
       "    <tr style=\"text-align: right;\">\n",
       "      <th></th>\n",
       "      <th>appid</th>\n",
       "      <th>cpu0</th>\n",
       "      <th>cpu1</th>\n",
       "      <th>cpu2</th>\n",
       "      <th>cpu3</th>\n",
       "      <th>cpu4</th>\n",
       "      <th>cpu5</th>\n",
       "      <th>cpu6</th>\n",
       "      <th>cpu7</th>\n",
       "      <th>cpu8</th>\n",
       "      <th>...</th>\n",
       "      <th>mem92</th>\n",
       "      <th>mem93</th>\n",
       "      <th>mem94</th>\n",
       "      <th>mem95</th>\n",
       "      <th>mem96</th>\n",
       "      <th>mem97</th>\n",
       "      <th>disk</th>\n",
       "      <th>P</th>\n",
       "      <th>M</th>\n",
       "      <th>PM</th>\n",
       "    </tr>\n",
       "  </thead>\n",
       "  <tbody>\n",
       "    <tr>\n",
       "      <th>0</th>\n",
       "      <td>app_1</td>\n",
       "      <td>0.5</td>\n",
       "      <td>0.5</td>\n",
       "      <td>0.5</td>\n",
       "      <td>0.5</td>\n",
       "      <td>0.5</td>\n",
       "      <td>0.5</td>\n",
       "      <td>0.5</td>\n",
       "      <td>0.5</td>\n",
       "      <td>0.5</td>\n",
       "      <td>...</td>\n",
       "      <td>6.491089</td>\n",
       "      <td>6.491566</td>\n",
       "      <td>6.491566</td>\n",
       "      <td>6.491566</td>\n",
       "      <td>6.491566</td>\n",
       "      <td>6.377323</td>\n",
       "      <td>60</td>\n",
       "      <td>0</td>\n",
       "      <td>0</td>\n",
       "      <td>0</td>\n",
       "    </tr>\n",
       "    <tr>\n",
       "      <th>1</th>\n",
       "      <td>app_2</td>\n",
       "      <td>0.5</td>\n",
       "      <td>0.5</td>\n",
       "      <td>0.5</td>\n",
       "      <td>0.5</td>\n",
       "      <td>0.5</td>\n",
       "      <td>0.5</td>\n",
       "      <td>0.5</td>\n",
       "      <td>0.5</td>\n",
       "      <td>0.5</td>\n",
       "      <td>...</td>\n",
       "      <td>3.079407</td>\n",
       "      <td>3.079407</td>\n",
       "      <td>3.079407</td>\n",
       "      <td>3.079407</td>\n",
       "      <td>3.079407</td>\n",
       "      <td>3.079407</td>\n",
       "      <td>60</td>\n",
       "      <td>0</td>\n",
       "      <td>0</td>\n",
       "      <td>0</td>\n",
       "    </tr>\n",
       "    <tr>\n",
       "      <th>2</th>\n",
       "      <td>app_3</td>\n",
       "      <td>0.5</td>\n",
       "      <td>0.5</td>\n",
       "      <td>0.5</td>\n",
       "      <td>0.5</td>\n",
       "      <td>0.5</td>\n",
       "      <td>0.5</td>\n",
       "      <td>0.5</td>\n",
       "      <td>0.5</td>\n",
       "      <td>0.5</td>\n",
       "      <td>...</td>\n",
       "      <td>5.401012</td>\n",
       "      <td>3.486458</td>\n",
       "      <td>3.486458</td>\n",
       "      <td>3.486458</td>\n",
       "      <td>3.371586</td>\n",
       "      <td>3.385529</td>\n",
       "      <td>60</td>\n",
       "      <td>0</td>\n",
       "      <td>0</td>\n",
       "      <td>0</td>\n",
       "    </tr>\n",
       "  </tbody>\n",
       "</table>\n",
       "<p>3 rows × 201 columns</p>\n",
       "</div>"
      ],
      "text/plain": [
       "   appid  cpu0  cpu1  cpu2  cpu3  cpu4  cpu5  cpu6  cpu7  cpu8 ...     mem92  \\\n",
       "0  app_1   0.5   0.5   0.5   0.5   0.5   0.5   0.5   0.5   0.5 ...  6.491089   \n",
       "1  app_2   0.5   0.5   0.5   0.5   0.5   0.5   0.5   0.5   0.5 ...  3.079407   \n",
       "2  app_3   0.5   0.5   0.5   0.5   0.5   0.5   0.5   0.5   0.5 ...  5.401012   \n",
       "\n",
       "      mem93     mem94     mem95     mem96     mem97  disk  P  M  PM  \n",
       "0  6.491566  6.491566  6.491566  6.491566  6.377323    60  0  0   0  \n",
       "1  3.079407  3.079407  3.079407  3.079407  3.079407    60  0  0   0  \n",
       "2  3.486458  3.486458  3.486458  3.371586  3.385529    60  0  0   0  \n",
       "\n",
       "[3 rows x 201 columns]"
      ]
     },
     "metadata": {},
     "output_type": "display_data"
    },
    {
     "data": {
      "text/plain": [
       "'instance_deploy'"
      ]
     },
     "metadata": {},
     "output_type": "display_data"
    },
    {
     "data": {
      "text/html": [
       "<div>\n",
       "<style>\n",
       "    .dataframe thead tr:only-child th {\n",
       "        text-align: right;\n",
       "    }\n",
       "\n",
       "    .dataframe thead th {\n",
       "        text-align: left;\n",
       "    }\n",
       "\n",
       "    .dataframe tbody tr th {\n",
       "        vertical-align: top;\n",
       "    }\n",
       "</style>\n",
       "<table border=\"1\" class=\"dataframe\">\n",
       "  <thead>\n",
       "    <tr style=\"text-align: right;\">\n",
       "      <th></th>\n",
       "      <th>instance_id</th>\n",
       "      <th>instance_from_appid</th>\n",
       "      <th>instance_in_host</th>\n",
       "    </tr>\n",
       "  </thead>\n",
       "  <tbody>\n",
       "    <tr>\n",
       "      <th>0</th>\n",
       "      <td>inst_157</td>\n",
       "      <td>app_50</td>\n",
       "      <td>NaN</td>\n",
       "    </tr>\n",
       "    <tr>\n",
       "      <th>1</th>\n",
       "      <td>inst_1837</td>\n",
       "      <td>app_3654</td>\n",
       "      <td>NaN</td>\n",
       "    </tr>\n",
       "    <tr>\n",
       "      <th>2</th>\n",
       "      <td>inst_23673</td>\n",
       "      <td>app_3486</td>\n",
       "      <td>machine_4959</td>\n",
       "    </tr>\n",
       "  </tbody>\n",
       "</table>\n",
       "</div>"
      ],
      "text/plain": [
       "  instance_id instance_from_appid instance_in_host\n",
       "0    inst_157              app_50              NaN\n",
       "1   inst_1837            app_3654              NaN\n",
       "2  inst_23673            app_3486     machine_4959"
      ]
     },
     "metadata": {},
     "output_type": "display_data"
    },
    {
     "data": {
      "text/plain": [
       "'machine_resources'"
      ]
     },
     "metadata": {},
     "output_type": "display_data"
    },
    {
     "data": {
      "text/html": [
       "<div>\n",
       "<style>\n",
       "    .dataframe thead tr:only-child th {\n",
       "        text-align: right;\n",
       "    }\n",
       "\n",
       "    .dataframe thead th {\n",
       "        text-align: left;\n",
       "    }\n",
       "\n",
       "    .dataframe tbody tr th {\n",
       "        vertical-align: top;\n",
       "    }\n",
       "</style>\n",
       "<table border=\"1\" class=\"dataframe\">\n",
       "  <thead>\n",
       "    <tr style=\"text-align: right;\">\n",
       "      <th></th>\n",
       "      <th>hostid</th>\n",
       "      <th>cpu</th>\n",
       "      <th>mem</th>\n",
       "      <th>disk</th>\n",
       "      <th>P_max</th>\n",
       "      <th>M_max</th>\n",
       "      <th>PM_max</th>\n",
       "    </tr>\n",
       "  </thead>\n",
       "  <tbody>\n",
       "    <tr>\n",
       "      <th>0</th>\n",
       "      <td>machine_1</td>\n",
       "      <td>32</td>\n",
       "      <td>64</td>\n",
       "      <td>600</td>\n",
       "      <td>7</td>\n",
       "      <td>3</td>\n",
       "      <td>7</td>\n",
       "    </tr>\n",
       "    <tr>\n",
       "      <th>1</th>\n",
       "      <td>machine_2</td>\n",
       "      <td>32</td>\n",
       "      <td>64</td>\n",
       "      <td>600</td>\n",
       "      <td>7</td>\n",
       "      <td>3</td>\n",
       "      <td>7</td>\n",
       "    </tr>\n",
       "    <tr>\n",
       "      <th>2</th>\n",
       "      <td>machine_3</td>\n",
       "      <td>32</td>\n",
       "      <td>64</td>\n",
       "      <td>600</td>\n",
       "      <td>7</td>\n",
       "      <td>3</td>\n",
       "      <td>7</td>\n",
       "    </tr>\n",
       "  </tbody>\n",
       "</table>\n",
       "</div>"
      ],
      "text/plain": [
       "      hostid  cpu  mem  disk  P_max  M_max  PM_max\n",
       "0  machine_1   32   64   600      7      3       7\n",
       "1  machine_2   32   64   600      7      3       7\n",
       "2  machine_3   32   64   600      7      3       7"
      ]
     },
     "metadata": {},
     "output_type": "display_data"
    },
    {
     "data": {
      "text/plain": [
       "'submit_sample'"
      ]
     },
     "metadata": {},
     "output_type": "display_data"
    },
    {
     "data": {
      "text/html": [
       "<div>\n",
       "<style>\n",
       "    .dataframe thead tr:only-child th {\n",
       "        text-align: right;\n",
       "    }\n",
       "\n",
       "    .dataframe thead th {\n",
       "        text-align: left;\n",
       "    }\n",
       "\n",
       "    .dataframe tbody tr th {\n",
       "        vertical-align: top;\n",
       "    }\n",
       "</style>\n",
       "<table border=\"1\" class=\"dataframe\">\n",
       "  <thead>\n",
       "    <tr style=\"text-align: right;\">\n",
       "      <th></th>\n",
       "      <th>inst_101</th>\n",
       "      <th>machine_1</th>\n",
       "    </tr>\n",
       "  </thead>\n",
       "  <tbody>\n",
       "    <tr>\n",
       "      <th>0</th>\n",
       "      <td>inst_102</td>\n",
       "      <td>machine_2</td>\n",
       "    </tr>\n",
       "    <tr>\n",
       "      <th>1</th>\n",
       "      <td>inst_103</td>\n",
       "      <td>machine_3</td>\n",
       "    </tr>\n",
       "    <tr>\n",
       "      <th>2</th>\n",
       "      <td>inst_104</td>\n",
       "      <td>machine_4</td>\n",
       "    </tr>\n",
       "  </tbody>\n",
       "</table>\n",
       "</div>"
      ],
      "text/plain": [
       "   inst_101   machine_1\n",
       "0  inst_102   machine_2\n",
       "1  inst_103   machine_3\n",
       "2  inst_104   machine_4"
      ]
     },
     "metadata": {},
     "output_type": "display_data"
    }
   ],
   "source": [
    "display(\"app_interference\")\n",
    "display(app_interference.head(3))\n",
    "display(\"app_resources\")\n",
    "display(app_resources.head(3))\n",
    "display(\"instance_deploy\")\n",
    "display(instance_deploy.head(3))\n",
    "display(\"machine_resources\")\n",
    "display(machine_resources.head(3))\n",
    "display(\"submit_sample\")\n",
    "display(submit_sample.head(3))\n",
    "\n",
    "\n"
   ]
  },
  {
   "cell_type": "markdown",
   "metadata": {},
   "source": [
    "Missing data"
   ]
  },
  {
   "cell_type": "code",
   "execution_count": 109,
   "metadata": {
    "collapsed": false,
    "scrolled": false
   },
   "outputs": [
    {
     "data": {
      "image/png": "[encoded data removed]",
      "text/plain": [
       "<Figure size 1296x432 with 1 Axes>"
      ]
     },
     "metadata": {},
     "output_type": "display_data"
    }
   ],
   "source": [
    "fig = plt.figure(figsize=(18,6))\n",
    "missing = pd.DataFrame((app_resources.isnull().sum())*100/app_resources.shape[0]).reset_index()\n",
    "ax = sns.pointplot(\"index\",0,data=missing)\n",
    "plt.xticks(rotation =90,fontsize =7)\n",
    "plt.title(\"Percentage of Missing values\")\n",
    "plt.ylabel(\"PERCENTAGE\")\n",
    "plt.xlabel(\"COLUMNS\")\n",
    "\n",
    "ax.set_facecolor(\"k\")\n",
    "fig.set_facecolor(\"lightgrey\")"
   ]
  },
  {
   "cell_type": "code",
   "execution_count": 107,
   "metadata": {
    "collapsed": false
   },
   "outputs": [
    {
     "data": {
      "text/plain": [
       "Text(0.5,1,'machine_resources')"
      ]
     },
     "execution_count": 107,
     "metadata": {},
     "output_type": "execute_result"
    },
    {
     "data": {
      "image/png": "[encoded data removed]",
      "text/plain": [
       "<Figure size 1080x1080 with 8 Axes>"
      ]
     },
     "metadata": {},
     "output_type": "display_data"
    }
   ],
   "source": [
    "plt.figure(figsize=(15,15))\n",
    "\n",
    "plt.subplot(231)\n",
    "sns.heatmap(pd.DataFrame(app_interference.isnull().sum()/app_interference.shape[0]*100),annot=True,\n",
    "            cmap=sns.color_palette(\"cool\"),linewidth=1,linecolor=\"white\")\n",
    "plt.title(\"app_interference\")\n",
    "\n",
    "plt.subplot(232)\n",
    "sns.heatmap(pd.DataFrame(app_resources.isnull().sum()/app_resources.shape[0]*100),annot=True,\n",
    "            cmap=sns.color_palette(\"cool\"),linewidth=1,linecolor=\"white\")\n",
    "plt.title(\"app_resources\")\n",
    "\n",
    "plt.subplot(233)\n",
    "sns.heatmap(pd.DataFrame(instance_deploy.isnull().sum()/instance_deploy.shape[0]*100),annot=True,\n",
    "            cmap=sns.color_palette(\"cool\"),linewidth=1,linecolor=\"white\")\n",
    "plt.title(\"instance_deploy\")\n",
    "\n",
    "plt.subplot(234)\n",
    "sns.heatmap(pd.DataFrame(machine_resources.isnull().sum()/machine_resources.shape[0]*100),annot=True,\n",
    "            cmap=sns.color_palette(\"cool\"),linewidth=1,linecolor=\"white\")\n",
    "plt.title(\"machine_resources\")\n",
    "\n"
   ]
  }
 ],
 "metadata": {
  "anaconda-cloud": {},
  "kernelspec": {
   "display_name": "Python [python35]",
   "language": "python",
   "name": "Python [python35]"
  },
  "language_info": {
   "codemirror_mode": {
    "name": "ipython",
    "version": 3
   },
   "file_extension": ".py",
   "mimetype": "text/x-python",
   "name": "python",
   "nbconvert_exporter": "python",
   "pygments_lexer": "ipython3",
   "version": "3.5.4"
  },
  "toc": {
   "nav_menu": {},
   "number_sections": true,
   "sideBar": true,
   "skip_h1_title": false,
   "toc_cell": false,
   "toc_position": {},
   "toc_section_display": "block",
   "toc_window_display": false
  }
 },
 "nbformat": 4,
 "nbformat_minor": 2
}
